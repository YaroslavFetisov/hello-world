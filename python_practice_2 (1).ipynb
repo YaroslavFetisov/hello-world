{
  "nbformat": 4,
  "nbformat_minor": 0,
  "metadata": {
    "colab": {
      "provenance": []
    },
    "kernelspec": {
      "name": "python3",
      "display_name": "Python 3"
    },
    "language_info": {
      "name": "python"
    }
  },
  "cells": [
    {
      "cell_type": "markdown",
      "source": [
        "# I. Змінні та памʼять."
      ],
      "metadata": {
        "id": "p9wwt0LZzNvn"
      }
    },
    {
      "cell_type": "markdown",
      "source": [
        "1. Створити змінні, що посилаються на два цілих числа, що однакові за значенням, де значення належить проміжку від -5 до 256. Перевірте, чи будуть ці змінні рівні тільки за значенням або ж ще будуть посилатися на один і той самий обʼєкт в памʼяті? Наведіть код та дайте текстову відповідь нижче."
      ],
      "metadata": {
        "id": "HTJrrm95xSV9"
      }
    },
    {
      "cell_type": "code",
      "execution_count": null,
      "metadata": {
        "id": "TATni2vzayjG",
        "colab": {
          "base_uri": "https://localhost:8080/"
        },
        "outputId": "9ab3956e-c5ff-4048-e947-a1ff1bf54e70"
      },
      "outputs": [
        {
          "output_type": "stream",
          "name": "stdout",
          "text": [
            "True\n",
            "True\n",
            "True\n"
          ]
        }
      ],
      "source": [
        "x = 100\n",
        "y = 100\n",
        "\n",
        "\n",
        "print(x == y)\n",
        "print(id(x) == id(y))\n",
        "print(x is y)"
      ]
    },
    {
      "cell_type": "markdown",
      "source": [
        "Так, будуть."
      ],
      "metadata": {
        "id": "zfRG_o3WbRdg"
      }
    },
    {
      "cell_type": "markdown",
      "source": [
        "2. За допомогою якої функції можна перевірити належність змінної до вказаного типу даних (напр. чи змінна True посилається на значення булевого та цілочисленого типу)?"
      ],
      "metadata": {
        "id": "ISORzt6M3vAt"
      }
    },
    {
      "cell_type": "code",
      "source": [
        "x = True\n",
        "\n",
        "print(isinstance(x, bool))\n",
        "print(isinstance(x, int))"
      ],
      "metadata": {
        "id": "9vL9CFaMbfyo",
        "colab": {
          "base_uri": "https://localhost:8080/"
        },
        "outputId": "0f20b35a-8142-44ff-b365-945b8d1a590e"
      },
      "execution_count": null,
      "outputs": [
        {
          "output_type": "stream",
          "name": "stdout",
          "text": [
            "True\n",
            "True\n"
          ]
        }
      ]
    },
    {
      "cell_type": "markdown",
      "source": [
        "# II. Цілі числа та числа з рухомою комою"
      ],
      "metadata": {
        "id": "tRxugKAxwYLw"
      }
    },
    {
      "cell_type": "markdown",
      "source": [
        "3. Створити дві змінні, що посилаються на будь-які ціле число та число з рухомою комою та продемонструвати такі арифметичні операції: додавання, віднімання, ділення, множення, ділення без залишку, ділення по модулю, приведення до ступеню. Всі результати операцій вивести на екран."
      ],
      "metadata": {
        "id": "NLHkgd5Gybc8"
      }
    },
    {
      "cell_type": "code",
      "source": [
        "integer_number = 10\n",
        "float_number = 3.5\n",
        "\n",
        "# Додавання\n",
        "print(\"Додавання:\")\n",
        "print(\"Ціле число + Ціле число:\", integer_number + integer_number)\n",
        "print(\"Число з рухомою комою + Ціле число:\", float_number + integer_number)\n",
        "print()\n",
        "\n",
        "# Віднімання\n",
        "print(\"Віднімання:\")\n",
        "print(\"Ціле число - Ціле число:\", integer_number - integer_number)\n",
        "print(\"Число з рухомою комою - Ціле число:\", float_number - integer_number)\n",
        "print()\n",
        "\n",
        "# Ділення\n",
        "print(\"Ділення:\")\n",
        "print(\"Ціле число / Ціле число:\", integer_number / integer_number)\n",
        "print(\"Число з рухомою комою / Ціле число:\", float_number / integer_number)\n",
        "print()\n",
        "\n",
        "# Множення\n",
        "print(\"Множення:\")\n",
        "print(\"Ціле число * Ціле число:\", integer_number * integer_number)\n",
        "print(\"Число з рухомою комою * Ціле число:\", float_number * integer_number)\n",
        "print()\n",
        "\n",
        "# Ділення без залишку\n",
        "print(\"Ділення без залишку:\")\n",
        "print(\"Ціле число // Ціле число:\", integer_number // integer_number)\n",
        "print(\"Число з рухомою комою // Ціле число:\", float_number // integer_number)\n",
        "print()\n",
        "\n",
        "# Ділення по модулю\n",
        "print(\"Ділення по модулю:\")\n",
        "print(\"Ціле число % Ціле число:\", integer_number % integer_number)\n",
        "print(\"Число з рухомою комою % Ціле число:\", float_number % integer_number)\n",
        "print()\n",
        "\n",
        "# Приведення до ступеню\n",
        "print(\"Приведення до ступеню:\")\n",
        "print(\"Ціле число ** 2:\", integer_number ** 2)\n",
        "print(\"Число з рухомою комою ** 2:\", float_number ** 2)\n"
      ],
      "metadata": {
        "id": "nb8u_3pjb2cA",
        "colab": {
          "base_uri": "https://localhost:8080/"
        },
        "outputId": "80cac214-a072-4667-c6f2-c1d5249e8b6d"
      },
      "execution_count": null,
      "outputs": [
        {
          "output_type": "stream",
          "name": "stdout",
          "text": [
            "Додавання:\n",
            "Ціле число + Ціле число: 20\n",
            "Число з рухомою комою + Ціле число: 13.5\n",
            "\n",
            "Віднімання:\n",
            "Ціле число - Ціле число: 0\n",
            "Число з рухомою комою - Ціле число: -6.5\n",
            "\n",
            "Ділення:\n",
            "Ціле число / Ціле число: 1.0\n",
            "Число з рухомою комою / Ціле число: 0.35\n",
            "\n",
            "Множення:\n",
            "Ціле число * Ціле число: 100\n",
            "Число з рухомою комою * Ціле число: 35.0\n",
            "\n",
            "Ділення без залишку:\n",
            "Ціле число // Ціле число: 1\n",
            "Число з рухомою комою // Ціле число: 0.0\n",
            "\n",
            "Ділення по модулю:\n",
            "Ціле число % Ціле число: 0\n",
            "Число з рухомою комою % Ціле число: 3.5\n",
            "\n",
            "Приведення до ступеню:\n",
            "Ціле число ** 2: 100\n",
            "Число з рухомою комою ** 2: 12.25\n"
          ]
        }
      ]
    },
    {
      "cell_type": "markdown",
      "source": [
        "4. Використовуючи змінні з вправи 3, продемонструйте механізм явного перетворення типів, де числа з рухомою комою перетворюються на цілі числа. Також визначте змінну, що посилається на значення булевого типу і спробуйте явно привести її до цілого числа."
      ],
      "metadata": {
        "id": "1kBClKgPzZnC"
      }
    },
    {
      "cell_type": "code",
      "source": [
        "# Явне перетворення чисел з рухомою комою на цілі числа\n",
        "integer_number_from_float = int(float_number)\n",
        "print(\"Число з рухомою комою до перетворення:\", float_number)\n",
        "print(\"Число після перетворення:\", integer_number_from_float)\n",
        "print()\n",
        "\n",
        "# Приведення змінної з булевим значенням до цілого числа\n",
        "boolean_value = True\n",
        "integer_value_from_boolean = int(boolean_value)\n",
        "print(\"Булеве значення до приведення:\", boolean_value)\n",
        "print(\"Значення після приведення до цілого числа:\", integer_value_from_boolean)"
      ],
      "metadata": {
        "id": "TbqJbkeUcKsD",
        "colab": {
          "base_uri": "https://localhost:8080/"
        },
        "outputId": "a8d3c4bf-cb24-48b2-98ce-fa74b5cca8ed"
      },
      "execution_count": null,
      "outputs": [
        {
          "output_type": "stream",
          "name": "stdout",
          "text": [
            "Число з рухомою комою до перетворення: 3.5\n",
            "Число після перетворення: 3\n",
            "\n",
            "Булеве значення до приведення: True\n",
            "Значення після приведення до цілого числа: 1\n"
          ]
        }
      ]
    },
    {
      "cell_type": "markdown",
      "source": [
        "# IІІ. Рядки (String)."
      ],
      "metadata": {
        "id": "EVJ7AflwxrZi"
      }
    },
    {
      "cell_type": "markdown",
      "source": [
        "5. Створити пустий рядок двома різними способами."
      ],
      "metadata": {
        "id": "_s5ECzz9zE61"
      }
    },
    {
      "cell_type": "code",
      "source": [
        "empty_string1 = ''\n",
        "empty_string2 = str()"
      ],
      "metadata": {
        "id": "fkZJHu9Scvc-"
      },
      "execution_count": null,
      "outputs": []
    },
    {
      "cell_type": "markdown",
      "source": [
        "6. Створити рядок з апострофом. Зробити його сирим. Вивести обидва рядка на екран."
      ],
      "metadata": {
        "id": "4Bdn9J3MzLf_"
      }
    },
    {
      "cell_type": "code",
      "source": [
        "string = \"\\t'\"\n",
        "print(string)\n",
        "\n",
        "raw_string = r\"{}\".format(repr(string))\n",
        "print(raw_string)\n"
      ],
      "metadata": {
        "id": "ivji_hsmc0GH",
        "colab": {
          "base_uri": "https://localhost:8080/"
        },
        "outputId": "1e7c497e-4d4d-4b61-c9a3-609e4ae21906"
      },
      "execution_count": null,
      "outputs": [
        {
          "output_type": "stream",
          "name": "stdout",
          "text": [
            "\t'\n",
            "\"\\t'\"\n"
          ]
        }
      ]
    },
    {
      "cell_type": "markdown",
      "source": [
        "7. Створити змінну, що буде посилатися на Ваше прізвище латинкою. Створити форматований рядок, який буде мати вигляд \"My surname is ______\", де на місці нижніх підкреслень буде Ваше прізвище зі змінної."
      ],
      "metadata": {
        "id": "bg_d8wM4z8dS"
      }
    },
    {
      "cell_type": "code",
      "source": [
        "surname = \"Fetisov\"\n",
        "\n",
        "formatted_string = f\"My surname is {surname}\"\n",
        "\n",
        "print(formatted_string)\n"
      ],
      "metadata": {
        "id": "kuxFgpWndACq",
        "colab": {
          "base_uri": "https://localhost:8080/"
        },
        "outputId": "ec8b5566-f4bc-42f9-8155-75b599339855"
      },
      "execution_count": null,
      "outputs": [
        {
          "output_type": "stream",
          "name": "stdout",
          "text": [
            "My surname is Fetisov\n"
          ]
        }
      ]
    },
    {
      "cell_type": "markdown",
      "source": [
        "8. Маючи рядок \"My dog is crazy.\" перетворити його на список [\"my\", \"dog\", \"is\", \"crazy\"]"
      ],
      "metadata": {
        "id": "1Nc6RqvQ0hxU"
      }
    },
    {
      "cell_type": "code",
      "source": [
        "string = \"My dog is crazy.\"\n",
        "\n",
        "string = string.replace('.', '')\n",
        "word_list = string.lower().split()\n",
        "\n",
        "print(word_list)"
      ],
      "metadata": {
        "id": "w1Ya4RqedUhw",
        "colab": {
          "base_uri": "https://localhost:8080/"
        },
        "outputId": "7e16b59b-945c-43e9-a9ae-f5bf60441839"
      },
      "execution_count": null,
      "outputs": [
        {
          "output_type": "stream",
          "name": "stdout",
          "text": [
            "['my', 'dog', 'is', 'crazy']\n"
          ]
        }
      ]
    },
    {
      "cell_type": "markdown",
      "source": [
        "# IV. Робота зі списками."
      ],
      "metadata": {
        "id": "GYVqN9uP1D4n"
      }
    },
    {
      "cell_type": "markdown",
      "source": [
        "9. Створити список двома різними за синтаксисом способами. За допомогою вбудованої функції обчисліть довжину одного з них."
      ],
      "metadata": {
        "id": "7-DeDunw2sO-"
      }
    },
    {
      "cell_type": "code",
      "source": [
        "list1 = [1, 2, 3, 4, 5]\n",
        "\n",
        "list2 = list(range(10))\n",
        "\n",
        "length1 = len(list1)\n",
        "\n",
        "print(\"Перший список:\", list1)\n",
        "print(\"Другий список:\", list2)\n",
        "print(\"Довжина першого списку:\", length1)\n"
      ],
      "metadata": {
        "id": "zxg06Uuxdyoh",
        "colab": {
          "base_uri": "https://localhost:8080/"
        },
        "outputId": "8938493b-a74a-4720-ace5-2b2418053da0"
      },
      "execution_count": null,
      "outputs": [
        {
          "output_type": "stream",
          "name": "stdout",
          "text": [
            "Перший список: [1, 2, 3, 4, 5]\n",
            "Другий список: [0, 1, 2, 3, 4, 5, 6, 7, 8, 9]\n",
            "Довжина першого списку: 5\n"
          ]
        }
      ]
    },
    {
      "cell_type": "markdown",
      "source": [
        "10. Створіть два списка та за допомогою спеціального методу додайте другий з них в якості останнього елемента першого."
      ],
      "metadata": {
        "id": "8vmGUTjL22gI"
      }
    },
    {
      "cell_type": "code",
      "source": [
        "list1 = [1, 2, 3]\n",
        "list2 = [4, 5, 6]\n",
        "\n",
        "list1.append(list2)\n",
        "\n",
        "print(list1)\n"
      ],
      "metadata": {
        "id": "uHtjWYw7d7hm",
        "colab": {
          "base_uri": "https://localhost:8080/"
        },
        "outputId": "f936cc58-d958-4675-b105-6c24d93927e5"
      },
      "execution_count": null,
      "outputs": [
        {
          "output_type": "stream",
          "name": "stdout",
          "text": [
            "[1, 2, 3, [4, 5, 6]]\n"
          ]
        }
      ]
    },
    {
      "cell_type": "markdown",
      "source": [
        "11. Створіть список, де елементами цього списку також є списки. Отримай перший елемент з останнього рядка та виведи значення на екран."
      ],
      "metadata": {
        "id": "JC3BkD-67_--"
      }
    },
    {
      "cell_type": "code",
      "source": [
        "list = [[1, 2], [3, 4]]\n",
        "\n",
        "res = list[-1][0]\n",
        "\n",
        "print(\"Перший елемент з останнього рядка:\", res)\n"
      ],
      "metadata": {
        "id": "Kz2jZHsGeLlz",
        "colab": {
          "base_uri": "https://localhost:8080/"
        },
        "outputId": "9312dd20-3467-4e80-fea9-bddd38d4d55e"
      },
      "execution_count": null,
      "outputs": [
        {
          "output_type": "stream",
          "name": "stdout",
          "text": [
            "Перший елемент з останнього рядка: 3\n"
          ]
        }
      ]
    },
    {
      "cell_type": "markdown",
      "source": [
        "12. Створіть список з десяти елементів різного типу. Отримайте всі елементи, окрім двох перших та двох останніх та збережіть їх в новій змінній."
      ],
      "metadata": {
        "id": "JA47PKTv8zFK"
      }
    },
    {
      "cell_type": "code",
      "source": [
        "list = [1, 'two', 3.0, True, [5, 6], 'seven', {'eight': 8}, (9, 10), None, 'eleven']\n",
        "\n",
        "new_list = list[2:-2]\n",
        "\n",
        "print(\"Новий список без перших та останніх двох елементів:\", new_list)\n"
      ],
      "metadata": {
        "id": "_rHdUR-ueP4-",
        "colab": {
          "base_uri": "https://localhost:8080/"
        },
        "outputId": "0bbc57d4-ff04-4c28-9a24-f22eeb687f1a"
      },
      "execution_count": null,
      "outputs": [
        {
          "output_type": "stream",
          "name": "stdout",
          "text": [
            "Новий список без перших та останніх двох елементів: [3.0, True, [5, 6], 'seven', {'eight': 8}, (9, 10)]\n"
          ]
        }
      ]
    },
    {
      "cell_type": "markdown",
      "source": [
        "# V. Робота з кортежами."
      ],
      "metadata": {
        "id": "pCjR1dJb1Qbi"
      }
    },
    {
      "cell_type": "markdown",
      "source": [
        "14. Створити кортеж з один елементом."
      ],
      "metadata": {
        "id": "fAZCxAX06R_k"
      }
    },
    {
      "cell_type": "code",
      "source": [
        "tup = (1,)"
      ],
      "metadata": {
        "id": "H7d82WkQev3e"
      },
      "execution_count": null,
      "outputs": []
    },
    {
      "cell_type": "markdown",
      "source": [
        "15. Порівняйте список та кортеж. Назвіть схожості та відмінності, випадки використання."
      ],
      "metadata": {
        "id": "8LCtYcmI6w1M"
      }
    },
    {
      "cell_type": "markdown",
      "source": [
        "Схожості:\n",
        "- Можливість зберігати кілька об'єктів\n",
        "- Обидва типи даних підтримують індексацію та зрізи для доступу до елементів\n",
        "\n",
        "Відмінності:\n",
        "- Списки є мутабельними.Кортежі є імутабельними\n",
        "- Списки створюються за допомогою квадратних дужок [], а кортежі - за допомогою круглих дужок ().\n",
        "- Зазвичай кортежі є трохи швидшими за списки, оскільки вони є імутабельними і, отже, потребують менше ресурсів для зберігання та маніпуляцій.\n",
        "\n",
        "Списки зазвичай використовуються там, де потрібна змінювана послідовність елементів або де можливі додавання та видалення елементів. Наприклад, списки використовуються для зберігання списку завдань користувача, де можна додавати, видаляти або змінювати завдання.\n",
        "\n",
        "Кортежі використовуються там, де потрібна незмінна послідовність елементів. Наприклад, кортеж може бути використаний для представлення координат точки у двовимірному просторі, де координати не можна змінювати. Крім того, кортежі можуть бути використані для передачі незмінних даних між функціями."
      ],
      "metadata": {
        "id": "fUsN1Hnue0C6"
      }
    },
    {
      "cell_type": "markdown",
      "source": [
        "16. Створіть кортеж з 11ти елементів чисел з рухомою комою та отримайте кожен парний за індексом елемент в зворотньому порядку. Наприклад, маючи (1.2, 2.3, 3.3, 4.3, 5.3, 6.3, 7.3, 8.3, 9.3, 0.3), отримати (0.3, 8.3, 6.3, 4.3, 2.3). Результат збережіть в нову змінну та виведіть на екран."
      ],
      "metadata": {
        "id": "m0xrwFijAmDD"
      }
    },
    {
      "cell_type": "code",
      "source": [
        "tup = (1.2, 2.3, 3.3, 4.3, 5.3, 6.3, 7.3, 8.3, 9.3, 0.3, 11.3)\n",
        "\n",
        "res = tup[-2::-2]\n",
        "\n",
        "print(res)\n"
      ],
      "metadata": {
        "id": "p-5DAH6XfAGA",
        "colab": {
          "base_uri": "https://localhost:8080/"
        },
        "outputId": "730ac186-cbbe-408e-9303-6dc56c25c4ab"
      },
      "execution_count": null,
      "outputs": [
        {
          "output_type": "stream",
          "name": "stdout",
          "text": [
            "(0.3, 8.3, 6.3, 4.3, 2.3)\n"
          ]
        }
      ]
    },
    {
      "cell_type": "markdown",
      "source": [
        "# VI. Множини (Set)."
      ],
      "metadata": {
        "id": "rW_I9dt3x6cW"
      }
    },
    {
      "cell_type": "markdown",
      "source": [
        "17. Створити множину без елементів. Після цого за допомогою методу додайте кілька різних елементів до множини. Чи множини є змінним типом даних?"
      ],
      "metadata": {
        "id": "zNjRLHLw1Bgg"
      }
    },
    {
      "cell_type": "code",
      "source": [
        "s = set()\n",
        "\n",
        "s.add(0)\n",
        "s.add('Привіт')\n",
        "s.add(True)\n",
        "\n",
        "print(s)\n"
      ],
      "metadata": {
        "id": "KOv7zc2Kfo4N",
        "colab": {
          "base_uri": "https://localhost:8080/"
        },
        "outputId": "44fcbec7-4001-4c4c-a471-f69f7ab5f849"
      },
      "execution_count": 3,
      "outputs": [
        {
          "output_type": "stream",
          "name": "stdout",
          "text": [
            "{0, True, 'Привіт'}\n"
          ]
        }
      ]
    },
    {
      "cell_type": "markdown",
      "source": [
        "Так, множини в Python є змінним типом даних"
      ],
      "metadata": {
        "id": "vxS6dVYiftZQ"
      }
    },
    {
      "cell_type": "markdown",
      "source": [
        "18. Створити множину, маючи список my_list = [1, 1, 2, 67, 67, 8, 9]. Пояснити, чому \"зникли\" деякі елементи."
      ],
      "metadata": {
        "id": "gHpT0Zw_1HEF"
      }
    },
    {
      "cell_type": "code",
      "source": [
        "l = [1, 1, 2, 67, 67, 8, 9]\n",
        "\n",
        "s = set(l)\n",
        "\n",
        "print(\"Вихідний список:\", l)\n",
        "print(\"Множина без дублікатів:\", s)\n"
      ],
      "metadata": {
        "id": "qCN4uvJ_fxmu",
        "colab": {
          "base_uri": "https://localhost:8080/"
        },
        "outputId": "1842b6a6-c77e-4418-c6f9-dd4406b609a1"
      },
      "execution_count": 4,
      "outputs": [
        {
          "output_type": "stream",
          "name": "stdout",
          "text": [
            "Вихідний список: [1, 1, 2, 67, 67, 8, 9]\n",
            "Множина без дублікатів: {1, 2, 67, 8, 9}\n"
          ]
        }
      ]
    },
    {
      "cell_type": "markdown",
      "source": [
        "Множина видалила всі дублікати"
      ],
      "metadata": {
        "id": "tFNc1e20fyny"
      }
    },
    {
      "cell_type": "markdown",
      "source": [
        "19. Створіть дві множини. Продемонстуйте над ними операції: обʼєднання, різниці, пересічі та симетричної різниці. Використовуйте методи, що не змінюють множини, а створюють нові."
      ],
      "metadata": {
        "id": "SRMkGizS1UwY"
      }
    },
    {
      "cell_type": "code",
      "source": [
        "set1 = {1, 2, 3, 4, 5}\n",
        "set2 = {4, 5, 6, 7, 8}\n",
        "\n",
        "print(\"set1:\", set1)\n",
        "print(\"set2:\", set2)\n",
        "\n",
        "union_set = set1.union(set2)\n",
        "print(\"Об'єднання множин:\", union_set)\n",
        "\n",
        "difference_set = set1.difference(set2)\n",
        "print(\"Різниця множин (set1 - set2):\", difference_set)\n",
        "\n",
        "intersection_set = set1.intersection(set2)\n",
        "print(\"Пересічення множин:\", intersection_set)\n",
        "\n",
        "symmetric_difference_set = set1.symmetric_difference(set2)\n",
        "print(\"Симетрична різниця множин:\", symmetric_difference_set)"
      ],
      "metadata": {
        "id": "h0T-VuDnf3Ri",
        "colab": {
          "base_uri": "https://localhost:8080/"
        },
        "outputId": "4d6e06a5-e295-4e6e-ee46-33f1c457e1da"
      },
      "execution_count": 7,
      "outputs": [
        {
          "output_type": "stream",
          "name": "stdout",
          "text": [
            "set1: {1, 2, 3, 4, 5}\n",
            "set2: {4, 5, 6, 7, 8}\n",
            "Об'єднання множин: {1, 2, 3, 4, 5, 6, 7, 8}\n",
            "Різниця множин (set1 - set2): {1, 2, 3}\n",
            "Пересічення множин: {4, 5}\n",
            "Симетрична різниця множин: {1, 2, 3, 6, 7, 8}\n"
          ]
        }
      ]
    },
    {
      "cell_type": "code",
      "source": [],
      "metadata": {
        "id": "FwmgLLa3HVXz"
      },
      "execution_count": null,
      "outputs": []
    },
    {
      "cell_type": "markdown",
      "source": [
        "# VII. Словники (Dictionary)."
      ],
      "metadata": {
        "id": "kWc8gkzTx7Ea"
      }
    },
    {
      "cell_type": "markdown",
      "source": [
        "20. Створіть пустий словник. До нього додайте чотири пари елементів такі, щоб їхні ключі були різних типів. Чи може список бути ключем? Чому?"
      ],
      "metadata": {
        "id": "i5FLwj-B2ybQ"
      }
    },
    {
      "cell_type": "code",
      "source": [
        "\n"
      ],
      "metadata": {
        "id": "hxgv3BzrgLAV",
        "colab": {
          "base_uri": "https://localhost:8080/"
        },
        "outputId": "45a2eb31-9c6d-433f-87de-4849dfd9cd20"
      },
      "execution_count": 6,
      "outputs": [
        {
          "output_type": "stream",
          "name": "stdout",
          "text": [
            "set1: {1, 2, 3, 4, 5}\n",
            "set2: {4, 5, 6, 7, 8}\n",
            "Об'єднання множин: {1, 2, 3, 4, 5, 6, 7, 8}\n",
            "Різниця множин (set1 - set2): {1, 2, 3}\n",
            "Пересічення множин: {4, 5}\n",
            "Симетрична різниця множин: {1, 2, 3, 6, 7, 8}\n"
          ]
        }
      ]
    },
    {
      "cell_type": "markdown",
      "source": [
        "*місце для текстової відповіді"
      ],
      "metadata": {
        "id": "zwa7UVN-gR3m"
      }
    },
    {
      "cell_type": "markdown",
      "source": [
        "21. Створіть словник, де значенням в одній з пар теж буде словник, який теж має вкладений словник. Виведіть на екран значення, що міститься в словнику, що знаходиться на найнижчому рівні ієрархії вкладеності (найбільш внутрішній)."
      ],
      "metadata": {
        "id": "WM_pMlJsgoNf"
      }
    },
    {
      "cell_type": "code",
      "source": [],
      "metadata": {
        "id": "60dlP7IHhAy4"
      },
      "execution_count": null,
      "outputs": []
    },
    {
      "cell_type": "markdown",
      "source": [
        "# Вітаю! Ви велика(ий) молодець, що впоралась(вся). Похваліть себе та побалуйте чимось приємним. Я Вами пишаюся."
      ],
      "metadata": {
        "id": "xOZP0hkx6cCr"
      }
    }
  ]
}